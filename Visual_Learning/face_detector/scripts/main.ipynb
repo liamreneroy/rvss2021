{
 "cells": [
  {
   "cell_type": "code",
   "execution_count": 1,
   "metadata": {},
   "outputs": [],
   "source": [
    "import argparse\n",
    "import os\n",
    "\n",
    "import cmd_printer\n",
    "from imdb import imdb_loader\n",
    "from res18_baseline import Res18Baseline\n",
    "from res18_skip import Res18Skip\n",
    "from trainer import Trainer\n",
    "from args import args"
   ]
  },
  {
   "cell_type": "code",
   "execution_count": null,
   "metadata": {},
   "outputs": [
    {
     "name": "stdout",
     "output_type": "stream",
     "text": [
      "\n",
      "==================== Hyper-parameters =====================\n",
      "   n_classes: 2\n",
      "   lr: 0.001\n",
      "   epochs: 10\n",
      "   batch_size: 16\n",
      "   weight_decay: 0.0001\n",
      "   scheduler_step: 5\n",
      "   scheduler_gamma: 0.5\n",
      "   model_dir: weights/face_baseline\n",
      "   model: res18_baseline\n",
      "   load_best: 0\n",
      "   log_freq: 2\n",
      "   dataset_dir: dataset/\n",
      "\n",
      "===========================================================\n",
      "\n",
      "=> The device is using 0 GPU(s).\n",
      "\n",
      "[Epoch 00/9] Loss: 0.9973 [5.56%, 8.72s < 139.50s]\n",
      "\n",
      "[Epoch 00/9] Loss: 0.8092 [16.67%, 22.11s < 105.50s]\n",
      "\n",
      "[Epoch 00/9] Loss: 0.6882 [27.78%, 35.68s < 95.23s]\n",
      "\n",
      "[Epoch 00/9] Loss: 0.5690 [38.89%, 49.33s < 81.37s]\n",
      "\n",
      "[Epoch 00/9] Loss: 0.5896 [50.00%, 63.13s < 69.00s]\n",
      "\n",
      "[Epoch 00/9] Loss: 0.5402 [61.11%, 76.71s < 54.11s]\n",
      "\n",
      "[Epoch 00/9] Loss: 0.4374 [72.22%, 90.18s < 40.10s]\n",
      "\n",
      "[Epoch 00/9] Loss: 0.4754 [83.33%, 103.88s < 27.31s]\n",
      "\n",
      "[Epoch 00/9] Loss: 0.4737 [94.44%, 117.53s < 13.64s]\n",
      "[Evaluation] Loss: 0.5017 [14.29%, 3.17s < 17.04s]\n",
      "[Evaluation] Loss: 0.4879 [42.86%, 6.82s < 9.10s]\n",
      "[Evaluation] Loss: 0.5398 [71.43%, 10.49s < 5.48s]\n",
      "[Evaluation] Loss: 0.6285 [100.00%, 12.74s < 0.41s]\n",
      "\n",
      "=> Training Loss: 0.6131 , Evaluation Loss 0.5280\n",
      "\n",
      "\n",
      "\n",
      "[Epoch 01/9] Loss: 0.4532 [5.56%, 8.12s < 132.82s]\n",
      "\n",
      "[Epoch 01/9] Loss: 0.4795 [16.67%, 21.39s < 108.02s]\n",
      "\n",
      "[Epoch 01/9] Loss: 0.4926 [27.78%, 35.90s < 97.00s]\n"
     ]
    }
   ],
   "source": [
    "# args\n",
    "args.model_dir = 'weights/face_baseline'\n",
    "# print args\n",
    "cmd_printer.divider(text=\"Hyper-parameters\", line_max=60)\n",
    "for arg in vars(args):\n",
    "    print(f\"   {arg}: {getattr(args, arg)}\")\n",
    "cmd_printer.divider(line_max=60)\n",
    "train_loader, eval_loader, test_loader = imdb_loader(args)\n",
    "if args.model == 'res18_baseline':\n",
    "    model = Res18Baseline(args)\n",
    "elif args.model == 'res18_skip':\n",
    "    model = Res18Skip(args)\n",
    "trainer = Trainer(args)\n",
    "trainer.fit(model, train_loader, eval_loader, test_loader)"
   ]
  },
  {
   "cell_type": "code",
   "execution_count": null,
   "metadata": {},
   "outputs": [],
   "source": []
  }
 ],
 "metadata": {
  "kernelspec": {
   "display_name": "conda_pytorch_p36",
   "language": "python",
   "name": "conda_pytorch_p36"
  },
  "language_info": {
   "codemirror_mode": {
    "name": "ipython",
    "version": 3
   },
   "file_extension": ".py",
   "mimetype": "text/x-python",
   "name": "python",
   "nbconvert_exporter": "python",
   "pygments_lexer": "ipython3",
   "version": "3.6.10"
  }
 },
 "nbformat": 4,
 "nbformat_minor": 2
}
