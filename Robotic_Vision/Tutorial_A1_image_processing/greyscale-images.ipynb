{
 "cells": [
  {
   "cell_type": "markdown",
   "metadata": {},
   "source": [
    "<table>\n",
    "  <tr>\n",
    "    <td><div align=\"left\"><font size=\"30\">Grey scale images</font></div></td>\n",
    "    <td><img src=\"images/RVSS-logo.png\" width=\"400\"></td>\n",
    "  </tr>\n",
    "</table>"
   ]
  },
  {
   "cell_type": "code",
   "execution_count": null,
   "metadata": {},
   "outputs": [],
   "source": [
    "%matplotlib notebook\n",
    "\n",
    "import sys\n",
    "!{sys.executable} -m pip install machinevision-toolbox-python # used to install machinevision-toolbox into the kernel\n",
    "\n",
    "import numpy as np\n",
    "import matplotlib.pyplot as plt\n",
    "import math\n",
    "from machinevisiontoolbox import Image\n",
    "import ipywidgets as widgets"
   ]
  },
  {
   "cell_type": "markdown",
   "metadata": {},
   "source": [
    "<p style=\"border:3px; background-color:#FF0000; padding: 1em; text-align: center;\">Note that in this section we will consider grey scale or monochrome images.  Have a look at the color-images.ipynb notebook in this folder.</p>\n",
    "\n",
    "# Images and pixels\n",
    "\n",
    "We will start by loading an image"
   ]
  },
  {
   "cell_type": "code",
   "execution_count": null,
   "metadata": {},
   "outputs": [],
   "source": [
    "mona = Image('monalisa.png', grey=True)"
   ]
  },
  {
   "cell_type": "markdown",
   "metadata": {},
   "source": [
    "`mona` is an object that encapsulates a NumPy array (a python style matrix) with dimensions"
   ]
  },
  {
   "cell_type": "code",
   "execution_count": null,
   "metadata": {},
   "outputs": [],
   "source": [
    "mona.shape\n",
    "\n",
    "# THIS IS A TEST UPDATE"
   ]
  },
  {
   "cell_type": "markdown",
   "metadata": {},
   "source": [
    "which we see has 700 rows and 677 columns.\n",
    "The data itself, the \"internal\" NumPy array can be accessed by"
   ]
  },
  {
   "cell_type": "code",
   "execution_count": null,
   "metadata": {},
   "outputs": [],
   "source": [
    "mona.image"
   ]
  },
  {
   "cell_type": "markdown",
   "metadata": {},
   "source": [
    "is simply a big table of 8-bit integers which represent brightness of each pixel as a number between 0 (black) and 255 (white).\n",
    "\n",
    "We can display it as an image"
   ]
  },
  {
   "cell_type": "code",
   "execution_count": null,
   "metadata": {},
   "outputs": [],
   "source": [
    "mona.disp();"
   ]
  },
  {
   "cell_type": "markdown",
   "metadata": {},
   "source": [
    "The notebook image view is interactive. If you drift your cursor over the image it displays, beneath, the pixel coordinate and the grey value of the pixel.  \n",
    "\n",
    "You can turn that feature off by clicking the blue button containin the \"power switch\" icon."
   ]
  },
  {
   "cell_type": "code",
   "execution_count": null,
   "metadata": {},
   "outputs": [],
   "source": [
    "# Q: Write code to display the value of the pixel at coordinate (200, 600)\n"
   ]
  },
  {
   "cell_type": "markdown",
   "metadata": {},
   "source": [
    "**Hint, it is a very low value.  Verify this value using the cursor.**"
   ]
  },
  {
   "cell_type": "markdown",
   "metadata": {},
   "source": [
    "We can plot a histogram which shows the frequency of the various grey levels within the image."
   ]
  },
  {
   "cell_type": "code",
   "execution_count": null,
   "metadata": {},
   "outputs": [],
   "source": [
    "hist = mona.hist()\n",
    "hist.plot()"
   ]
  },
  {
   "cell_type": "markdown",
   "metadata": {},
   "source": [
    "Clearly the mean value is quite low"
   ]
  },
  {
   "cell_type": "code",
   "execution_count": null,
   "metadata": {},
   "outputs": [],
   "source": [
    "print(np.mean(mona.image))"
   ]
  },
  {
   "cell_type": "markdown",
   "metadata": {},
   "source": [
    "and there are almost no pixels with values greater than 180.  Zoom into the figure to check this out, or "
   ]
  },
  {
   "cell_type": "code",
   "execution_count": null,
   "metadata": {},
   "outputs": [],
   "source": [
    "# write code to compute the maximum grey level in the image\n"
   ]
  },
  {
   "cell_type": "markdown",
   "metadata": {},
   "source": [
    "# Binary images\n",
    "\n",
    "Let's load an image that only has two unique pixel values: 0 or 255."
   ]
  },
  {
   "cell_type": "code",
   "execution_count": null,
   "metadata": {},
   "outputs": [],
   "source": [
    "sharks = Image('shark2.png', grey=True)\n",
    "sharks.disp();"
   ]
  },
  {
   "cell_type": "markdown",
   "metadata": {},
   "source": [
    "**Q: move the cursor over the image to explore the pixel values shown in the bottom right corner.  What are the values of the black and white areas of the image?**\n",
    "\n",
    "We can show a histogram of this image"
   ]
  },
  {
   "cell_type": "code",
   "execution_count": null,
   "metadata": {},
   "outputs": [],
   "source": [
    "hist = sharks.hist()\n",
    "hist.plot()"
   ]
  },
  {
   "cell_type": "markdown",
   "metadata": {},
   "source": [
    "**Q: use the toolbar to zoom into this graph use the mouse to explore the values.  How many non-zero values in this histogram?  What are the heights of the peaks?  What should the peak heights sum up to?  Do they?**\n",
    "\n",
    "Such an image, with just two different pixel values, is called a **binary image**."
   ]
  },
  {
   "cell_type": "markdown",
   "metadata": {},
   "source": [
    "Now let's look at another grey scale image."
   ]
  },
  {
   "cell_type": "code",
   "execution_count": null,
   "metadata": {},
   "outputs": [],
   "source": [
    "penguins = Image('penguins.png', grey=True)\n",
    "penguins.disp();"
   ]
  },
  {
   "cell_type": "code",
   "execution_count": null,
   "metadata": {},
   "outputs": [],
   "source": [
    "# Q. Add the code here to compute and plot the histogram"
   ]
  },
  {
   "cell_type": "markdown",
   "metadata": {},
   "source": [
    "This time we see a much richer distribution of pixel values.  A lot of pixels have a value less than 100 and these are the dark background of the sign.  Clearly there are many shades of black.  Similarly for the foreground, there are many shades of white.\n",
    "\n",
    "**Q: Move the mouse over the original image to explore where these different grey levels appear.**\n",
    "\n",
    "# Thresholding\n",
    "\n",
    "A very classical image processing operation is thresholding.  We could turn the grey level image above into a binary image by comparing every pixel with a constant value called the threshold"
   ]
  },
  {
   "cell_type": "code",
   "execution_count": null,
   "metadata": {},
   "outputs": [],
   "source": [
    "binary_image = penguins > 80\n",
    "binary_image.disp();"
   ]
  },
  {
   "cell_type": "markdown",
   "metadata": {},
   "source": [
    "We now have only two types of pixels, black (value of 0) or white (value of 1), but they don't cleanly map to what we perceive as the black and white parts of the image.  \n",
    "\n",
    "**Q: adjust the threshold using the widget below, and explore the effect on the image.  Try to find a threshold that yields a binary image where black corresponds to the background of the sign and white corresponds to the foreground text.**\n",
    "\n",
    "<p style=\"border:3px; background-color:#FF0000; font-weight: bold; padding: 1em; text-align: center;\">Click the slider, don't drag it.</p>"
   ]
  },
  {
   "cell_type": "code",
   "execution_count": null,
   "metadata": {},
   "outputs": [],
   "source": [
    "@widgets.interact\n",
    "def animate( threshold =  widgets.IntSlider(value=80, description='threshold:',  min=1, max=255)):\n",
    "    binary_image = penguins > threshold\n",
    "    binary_image.disp()\n"
   ]
  },
  {
   "cell_type": "markdown",
   "metadata": {},
   "source": [
    "# Challenges with thresholding\n",
    "\n",
    "Here is another greyscale image of a sign, but this one has a highlight due to the way the scene was lit."
   ]
  },
  {
   "cell_type": "code",
   "execution_count": null,
   "metadata": {},
   "outputs": [],
   "source": [
    "castle = Image('castle2.png', grey=True)\n",
    "castle.disp();"
   ]
  },
  {
   "cell_type": "code",
   "execution_count": null,
   "metadata": {},
   "outputs": [],
   "source": [
    "hist = castle.hist()\n",
    "hist.plot()"
   ]
  },
  {
   "cell_type": "markdown",
   "metadata": {},
   "source": [
    "This histogram is more bimodal, that is there are two peaks.  \n",
    "\n",
    "**Q: Move the cursor over the histogram and you can read off the coordinates of the peaks.**\n",
    "\n",
    "**Q: Move the mouse over the image, explore the pixel values in the sign and background, and relate that to what you see in the histogram.**"
   ]
  },
  {
   "cell_type": "markdown",
   "metadata": {},
   "source": [
    "**Q: Using the widget try to find a good threshold that separates the lettering of the sign from the background**"
   ]
  },
  {
   "cell_type": "code",
   "execution_count": null,
   "metadata": {},
   "outputs": [],
   "source": [
    "@widgets.interact\n",
    "def animate( threshold =  widgets.IntSlider(value=80, description='threshold:',  min=1, max=255)):\n",
    "    binary_image = castle > threshold\n",
    "    binary_image.disp()\n",
    "\n"
   ]
  },
  {
   "cell_type": "markdown",
   "metadata": {},
   "source": [
    "You will this case is rather more sensitive, but also that it is impossible to find a single threshold that separate all letters from the background.  This is an example of the limitations of thresholding:\n",
    "\n",
    "* how do we choose the threshold?\n",
    "* how do we make thresholding robust to uneven or variable lighting conditions?"
   ]
  }
 ],
 "metadata": {
  "kernelspec": {
   "display_name": "conda_mxnet_p36",
   "language": "python",
   "name": "conda_mxnet_p36"
  },
  "language_info": {
   "codemirror_mode": {
    "name": "ipython",
    "version": 3
   },
   "file_extension": ".py",
   "mimetype": "text/x-python",
   "name": "python",
   "nbconvert_exporter": "python",
   "pygments_lexer": "ipython3",
   "version": "3.6.10"
  },
  "varInspector": {
   "cols": {
    "lenName": 16,
    "lenType": 16,
    "lenVar": 40
   },
   "kernels_config": {
    "python": {
     "delete_cmd_postfix": "",
     "delete_cmd_prefix": "del ",
     "library": "var_list.py",
     "varRefreshCmd": "print(var_dic_list())"
    },
    "r": {
     "delete_cmd_postfix": ") ",
     "delete_cmd_prefix": "rm(",
     "library": "var_list.r",
     "varRefreshCmd": "cat(var_dic_list()) "
    }
   },
   "types_to_exclude": [
    "module",
    "function",
    "builtin_function_or_method",
    "instance",
    "_Feature"
   ],
   "window_display": false
  }
 },
 "nbformat": 4,
 "nbformat_minor": 4
}
