{
 "cells": [
  {
   "cell_type": "markdown",
   "metadata": {},
   "source": [
    "<table>\n",
    "  <tr>\n",
    "      <td><div align=\"left\"><font size=\"20\" >Camera and image motion</font></div></td>\n",
    "     <td><img src=\"images/RVSS-logo.png\" width=\"400\"></td>\n",
    "  </tr>\n",
    "</table>"
   ]
  },
  {
   "cell_type": "markdown",
   "metadata": {},
   "source": [
    "We need to import some modules. We will use the standard `numpy` package to help us with linear algebraic operations on matrices and vectors.\n",
    "\n",
    "`common.py` is a set of specific helper functions to support these tutorials.  If you want to know what a function does, just click somewhere within the parentheses that enclose the arguments and hit SHIFT+TAB. If there's a + button at the top of the popup tooltip, this means the documentation spans a few lines, click it to show the full docstring, then scroll up."
   ]
  },
  {
   "cell_type": "code",
   "execution_count": null,
   "metadata": {},
   "outputs": [],
   "source": [
    "%matplotlib inline\n",
    "import sys\n",
    "\n",
    "!{sys.executable} -m pip install machinevision-toolbox-python\n",
    "\n",
    "\n",
    "import numpy as np\n",
    "from machinevisiontoolbox import CentralCamera\n",
    "from spatialmath import SE3\n",
    "import scipy.linalg as lin\n",
    "\n",
    "import matplotlib.pyplot as plt\n",
    "np.set_printoptions(linewidth=120, formatter={'float': lambda x: f\"{x:8.4g}\" if abs(x) > 1e-10 else f\"{0:8.4g}\"})\n"
   ]
  },
  {
   "cell_type": "markdown",
   "metadata": {},
   "source": [
    "***\n",
    "# Relationship between camera and image-plane motion\n",
    "Instantiate a projective camera object, centred at the origin and viewing parallel to the world frame z-axis"
   ]
  },
  {
   "cell_type": "code",
   "execution_count": null,
   "metadata": {},
   "outputs": [],
   "source": [
    "camera = CentralCamera()\n",
    "print(camera)"
   ]
  },
  {
   "cell_type": "markdown",
   "metadata": {},
   "source": [
    "Define a point in the world"
   ]
  },
  {
   "cell_type": "code",
   "execution_count": null,
   "metadata": {},
   "outputs": [],
   "source": [
    "P = [1, 1, 5]"
   ]
  },
  {
   "cell_type": "markdown",
   "metadata": {},
   "source": [
    "We will project it to the image plane"
   ]
  },
  {
   "cell_type": "code",
   "execution_count": null,
   "metadata": {},
   "outputs": [],
   "source": [
    "p0 = camera.project(P)\n",
    "p0"
   ]
  },
  {
   "cell_type": "markdown",
   "metadata": {},
   "source": [
    "Now if we displace the camera slightly (distance `d`) in the x-direction the pixel coordinates will become"
   ]
  },
  {
   "cell_type": "code",
   "execution_count": null,
   "metadata": {},
   "outputs": [],
   "source": [
    "d = 0.1\n",
    "px = camera.project(P, pose=SE3([d, 0, 0]))\n",
    "px"
   ]
  },
  {
   "cell_type": "markdown",
   "metadata": {},
   "source": [
    "Using the camera coordinate conventions of RVC2 Fig. 11.5, the camera has moved to the right so the image point has moved to the left. The sensitivity of image motion to camera motion is"
   ]
  },
  {
   "cell_type": "code",
   "execution_count": null,
   "metadata": {},
   "outputs": [],
   "source": [
    "( px - p0) / d"
   ]
  },
  {
   "cell_type": "markdown",
   "metadata": {},
   "source": [
    "which is an approximation to the partial derivative $\\partial p / \\partial x$. It shows that 1 m of camera motion would lead to −160 pixel of feature motion in the u-direction. \n",
    "\n",
    "We can repeat this for z-axis translation, ie. moving the camera forward\n"
   ]
  },
  {
   "cell_type": "code",
   "execution_count": null,
   "metadata": {},
   "outputs": [],
   "source": [
    "( camera.project(P, pose=SE3([0, 0, d])) - p0) / d"
   ]
  },
  {
   "cell_type": "markdown",
   "metadata": {},
   "source": [
    "which is an approximation to the partial derivative $\\partial p / \\partial z$, and  shows equal motion in the u- and v-directions\n",
    "\n",
    "We can also rotate the camera about the x-axis, equivalent to pitching the camera upwards"
   ]
  },
  {
   "cell_type": "code",
   "execution_count": null,
   "metadata": {},
   "outputs": [],
   "source": [
    "px = camera.project(P, pose=SE3.Rx(d))\n",
    "( px - p0) / d"
   ]
  },
  {
   "cell_type": "markdown",
   "metadata": {},
   "source": [
    "which is predominantly motion down in the image, remember the v-axis points down in the image. the image motion is predominantly in the v-direction. It is clear that camera motion along and about the different degrees of freedom in SE(3) causes quite different motion of image points.\n",
    "\n",
    "## Things to try on your own\n",
    "1. use a smaller value of `d` when computing the numerical approximation to the Jacobian\n",
    "\n",
    "# Image Jacobian\n",
    "\n",
    "Consider the camera as a function \n",
    "\\begin{equation}\n",
    "p = {\\cal P}(P, \\mathbf{K}, \\xi)\n",
    "\\end{equation}\n",
    "where $p \\in \\mathbb{R}^2$ is the image-plane point, $P \\in \\mathbb{R}^3$ is the world point, $\\mathbf{K} \\in \\mathbb{R}^{3 \\times 3}$ is the camera intrinsics and $\\xi \\in SE(3)$ is the camera pose. Its derivative with respect to time is\n",
    "\\begin{equation}\n",
    "\\dot{p} = \\mathbf{J}_p(P, \\mathbf{K}, \\xi) \\nu\n",
    "\\end{equation}\n",
    "where $\\nu = (v_x, v_y, v_z, \\omega_x, \\omega_y, \\omega_z) \\in \\mathbb{R}^6$ is the velocity of the camera -- the spatial velocity.\n",
    "\n",
    "$\\mathbf{J}_p$ is a Jacobian-like object, but because we have taken the derivative with respect to a pose $\\xi \\in SE(3)$ rather than a vector it is technically called an _interaction matrix_. However in the visual servoing world it is more commonly called an _image Jacobian_ or a _feature sensitivity matrix_.\n",
    "\n",
    "The Toolbox CentralCamera class provides the method visjac_p to compute the image Jacobian and for the example above it is\n"
   ]
  },
  {
   "cell_type": "code",
   "execution_count": null,
   "metadata": {},
   "outputs": [],
   "source": [
    "J = camera.visjac_p( (672, 672), 5)\n",
    "J"
   ]
  },
  {
   "cell_type": "markdown",
   "metadata": {},
   "source": [
    "Each column gives the image-plane velocity for the corresponding component of camera velocity, ie. the first column corresponds to camera x-axis motion, the second column corresponds to camera x-axis motion and the last column correpsonds to camera z-axis rotation.  In Out[6] we computed a numerical approximation to the first column,  Out[7] an approximation to the third column, and Out[8] is an approximation to the fourth column.\n",
    "\n",
    "If the camera is moving at 1m/s in the x-axis direction the velocity at the pixel will be"
   ]
  },
  {
   "cell_type": "code",
   "execution_count": null,
   "metadata": {},
   "outputs": [],
   "source": [
    "J @ [1, 0, 0, 0, 0, 0]"
   ]
  },
  {
   "cell_type": "markdown",
   "metadata": {},
   "source": [
    "in units of pixel/s.\n",
    "\n",
    "If the velocity was 1rad/s around the z-axis the velocity at the pixel will be"
   ]
  },
  {
   "cell_type": "code",
   "execution_count": null,
   "metadata": {},
   "outputs": [],
   "source": [
    "J @ [0, 0, 0, 0, 0, 1]"
   ]
  },
  {
   "cell_type": "markdown",
   "metadata": {},
   "source": [
    "and if the camera velocity was 1m/s in the x-axis direction *and* 1rad/s in around the z-axis the velocity at the pixel will be"
   ]
  },
  {
   "cell_type": "code",
   "execution_count": null,
   "metadata": {},
   "outputs": [],
   "source": [
    "J @ [1, 0, 0, 0, 0, 1]"
   ]
  },
  {
   "cell_type": "markdown",
   "metadata": {},
   "source": [
    "# Optical flow fields\n",
    "\n",
    "We just computed the image Jacobian for a single point close to the centre of the image plane.  Imagine now that we compute it for a grid over the image plane and then see how the image-plane velocity at each point varies with camera veloicty.\n",
    "\n",
    "The example below provides you with a slider for each component of camera velocity.  As you adjust them the corresponding optical flow field is displayed. Have a play and try to understand what this is showing you.  What happens if you motion in several dimensions of the camera velocity space?"
   ]
  },
  {
   "cell_type": "code",
   "execution_count": null,
   "metadata": {},
   "outputs": [],
   "source": [
    "import ipywidgets as widgets\n",
    "\n",
    "camera = CentralCamera() # create camera object\n",
    "\n",
    "\n",
    "@widgets.interact\n",
    "def animate( x =  widgets.FloatSlider(value=0.5, description='X:',  min=-1, max=1),\n",
    "             y =  widgets.FloatSlider(value=0,   description='Y:',  min=-1, max=1),\n",
    "             z =  widgets.FloatSlider(value=0,   description='Z:',  min=-1, max=1),\n",
    "             rx = widgets.FloatSlider(value=0,   description='rX:', min=-1, max=1),\n",
    "             ry = widgets.FloatSlider(value=0,   description='rY:', min=-1, max=1),\n",
    "             rz = widgets.FloatSlider(value=0,   description='rZ:', min=-1, max=1) ):\n",
    "\n",
    "    Z = 2  # distance to the grid of points\n",
    "    vel = [x, y, z, rx, ry, rz]  # camera velocity from sliders, as a column vector\n",
    "    \n",
    "    # setup the plot window, fixed scale, unity aspect ratio, grid lines on\n",
    "    plt.figure(figsize=(8,8))\n",
    "    ax = plt.gca()\n",
    "    plt.grid(True)\n",
    "    ax.set_aspect('equal')\n",
    "    ax.set_facecolor('yellow')\n",
    "    plt.xlabel('u (pixels)')\n",
    "    plt.ylabel('v (pixels)')\n",
    "    plt.title('Velocity on camera image plane')\n",
    "    plt.xlim(0, 1000)\n",
    "    ax.set_ylim(1000, 0)  # inverted y-axis\n",
    "\n",
    "\n",
    "    # compute optical flow over a grid of points\n",
    "    a = np.arange(-1000, 1000, 50)  # set of flow points\n",
    "\n",
    "    [U, V] = np.meshgrid(a, a, indexing='ij')\n",
    "    du = np.empty(U.shape)\n",
    "    dv = np.empty(U.shape)\n",
    "    \n",
    "    for i in range(U.shape[1]):\n",
    "        for j in range(U.shape[0]):\n",
    "            pdot = camera.visjac_p( ([U[i,j], V[i,j]]), Z) @ vel\n",
    "            du[i,j] = pdot[0]\n",
    "            dv[i,j] = pdot[1]\n",
    "\n",
    "    # plot the flow vectors\n",
    "    #  -dv is to overcome a bug with quiver and flipped vertical axis\n",
    "    plt.quiver(U, V, du, -dv, scale=8000)\n",
    "    \n",
    "    "
   ]
  },
  {
   "cell_type": "markdown",
   "metadata": {},
   "source": [
    "## Things to try on your own\n",
    "1. Change the camera to a 4mm focal length, and see the change in the shape of the optical flow fields for rotation about the x- and y-axes."
   ]
  },
  {
   "cell_type": "markdown",
   "metadata": {},
   "source": [
    "# Imperceptible motion\n",
    "Define a point in the world and compute its image Jacobian"
   ]
  },
  {
   "cell_type": "code",
   "execution_count": null,
   "metadata": {},
   "outputs": [],
   "source": [
    "P = [0, 0, 5]\n",
    "p = camera.project(P)\n",
    "J = camera.visjac_p( p, 5)"
   ]
  },
  {
   "cell_type": "markdown",
   "metadata": {},
   "source": [
    "The Jacobian is $2 \\times 6$ which means it has a nullity of 4, that is, there are four possible velocities that will cause zero image plane motion, as will any linear combination of these velocities"
   ]
  },
  {
   "cell_type": "code",
   "execution_count": null,
   "metadata": {},
   "outputs": [],
   "source": [
    "N = lin.null_space(J)\n",
    "N.shape"
   ]
  },
  {
   "cell_type": "markdown",
   "metadata": {},
   "source": [
    "We can quickly verify this is the case for the first column which is a camera velocity of"
   ]
  },
  {
   "cell_type": "code",
   "execution_count": null,
   "metadata": {},
   "outputs": [],
   "source": [
    "N[:,0]"
   ]
  },
  {
   "cell_type": "markdown",
   "metadata": {},
   "source": [
    "and the resulting image-plane velocity is"
   ]
  },
  {
   "cell_type": "code",
   "execution_count": null,
   "metadata": {},
   "outputs": [],
   "source": [
    "J @ N[:,0]"
   ]
  },
  {
   "cell_type": "markdown",
   "metadata": {},
   "source": [
    "which is effectively zero."
   ]
  },
  {
   "cell_type": "markdown",
   "metadata": {},
   "source": [
    "# Ambiguous motion"
   ]
  },
  {
   "cell_type": "code",
   "execution_count": null,
   "metadata": {},
   "outputs": [],
   "source": [
    "P = [1, 1, 5]\n",
    "p = camera.project(P)\n",
    "J = camera.visjac_p( p, 5)\n",
    "J"
   ]
  },
  {
   "cell_type": "code",
   "execution_count": null,
   "metadata": {},
   "outputs": [],
   "source": [
    "np.set_printoptions(precision=3, floatmode='maxprec')\n",
    "np.set_printoptions(suppress=True)\n",
    "@widgets.interact\n",
    "def animate( f =  widgets.FloatSlider(value=8, description='f (mm): ',  min=1, max=100) ):\n",
    "    camera = CentralCamera(f=f*1e-3) # create camera object\n",
    "    p = camera.project(P)\n",
    "    J = camera.visjac_p( p, 5)\n",
    "    print(J)"
   ]
  },
  {
   "cell_type": "code",
   "execution_count": null,
   "metadata": {},
   "outputs": [],
   "source": []
  }
 ],
 "metadata": {
  "kernelspec": {
   "display_name": "conda_mxnet_p36",
   "language": "python",
   "name": "conda_mxnet_p36"
  },
  "language_info": {
   "codemirror_mode": {
    "name": "ipython",
    "version": 3
   },
   "file_extension": ".py",
   "mimetype": "text/x-python",
   "name": "python",
   "nbconvert_exporter": "python",
   "pygments_lexer": "ipython3",
   "version": "3.6.10"
  },
  "toc": {
   "base_numbering": 1,
   "nav_menu": {},
   "number_sections": true,
   "sideBar": true,
   "skip_h1_title": false,
   "title_cell": "Table of Contents",
   "title_sidebar": "Contents",
   "toc_cell": false,
   "toc_position": {},
   "toc_section_display": true,
   "toc_window_display": true
  },
  "varInspector": {
   "cols": {
    "lenName": 16,
    "lenType": 16,
    "lenVar": 40
   },
   "kernels_config": {
    "python": {
     "delete_cmd_postfix": "",
     "delete_cmd_prefix": "del ",
     "library": "var_list.py",
     "varRefreshCmd": "print(var_dic_list())"
    },
    "r": {
     "delete_cmd_postfix": ") ",
     "delete_cmd_prefix": "rm(",
     "library": "var_list.r",
     "varRefreshCmd": "cat(var_dic_list()) "
    }
   },
   "types_to_exclude": [
    "module",
    "function",
    "builtin_function_or_method",
    "instance",
    "_Feature"
   ],
   "window_display": false
  }
 },
 "nbformat": 4,
 "nbformat_minor": 2
}
