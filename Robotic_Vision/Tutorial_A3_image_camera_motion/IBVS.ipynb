{
 "cells": [
  {
   "cell_type": "markdown",
   "metadata": {},
   "source": [
    "<table>\n",
    "  <tr>\n",
    "      <td><div align=\"left\"><font size=\"20\" >Image-based Visual Servo</font></div></td>\n",
    "     <td><img src=\"images/RVSS-logo.png\" width=\"400\"></td>\n",
    "  </tr>\n",
    "</table>"
   ]
  },
  {
   "cell_type": "markdown",
   "metadata": {},
   "source": [
    "We need to import some modules. We will use the standard `numpy` package to help us with linear algebraic operations on matrices and vectors."
   ]
  },
  {
   "cell_type": "code",
   "execution_count": null,
   "metadata": {},
   "outputs": [],
   "source": [
    "%matplotlib notebook\n",
    "\n",
    "import sys\n",
    "!{sys.executable} -m pip install machinevision-toolbox-python\n",
    "\n",
    "import numpy as np\n",
    "import math\n",
    "\n",
    "from cam_visualizers import *\n",
    "np.set_printoptions(linewidth=120, formatter={'float': lambda x: f\"{x:8.4g}\" if abs(x) > 1e-10 else f\"{0:8.4g}\"})\n",
    "from machinevisiontoolbox import Image, CentralCamera\n",
    "from spatialmath import base\n",
    "\n",
    "import matplotlib.pyplot as plt\n",
    "from matplotlib.animation import FuncAnimation\n",
    "from mpl_toolkits.mplot3d import Axes3D, art3d\n",
    "from mpl_toolkits.mplot3d.art3d import Poly3DCollection"
   ]
  },
  {
   "cell_type": "markdown",
   "metadata": {},
   "source": [
    "***\n",
    "We will define the coordinates of the three vertices of an equilateral triangle, as columns of a matrix"
   ]
  },
  {
   "cell_type": "code",
   "execution_count": null,
   "metadata": {},
   "outputs": [],
   "source": [
    "P = np.array([  [-1, 0,            5],\n",
    "                [ 1, 0,            5],\n",
    "                [ 0, math.sqrt(3), 5]]).T\n",
    "P"
   ]
  },
  {
   "cell_type": "markdown",
   "metadata": {},
   "source": [
    "Instantiate a projective camera object, centred at the origin and viewing parallel to the world frame z-axis"
   ]
  },
  {
   "cell_type": "code",
   "execution_count": null,
   "metadata": {},
   "outputs": [],
   "source": [
    "camera = CentralCamera()"
   ]
  },
  {
   "cell_type": "markdown",
   "metadata": {},
   "source": [
    "Now we can project the triangle vertex points to the image plane"
   ]
  },
  {
   "cell_type": "code",
   "execution_count": null,
   "metadata": {},
   "outputs": [],
   "source": [
    "p = camera.project(P)\n",
    "p"
   ]
  },
  {
   "cell_type": "markdown",
   "metadata": {},
   "source": [
    "the result is a matrix with one column for each image plane point for the world point in the corresponding column  (in units of pixels)"
   ]
  },
  {
   "cell_type": "code",
   "execution_count": null,
   "metadata": {
    "code_folding": [],
    "tags": [
     "hide_input"
    ]
   },
   "outputs": [],
   "source": [
    "# setup the plot\n",
    "plt.figure()\n",
    "ax = plt.gca()\n",
    "plt.grid(True)\n",
    "ax.set_aspect('equal')\n",
    "ax.set_facecolor('yellow')\n",
    "plt.xlabel('u (pixels)')\n",
    "plt.ylabel('v (pixels)')\n",
    "plt.title('Camera image plane')\n",
    "plt.xlim(0, 1000)\n",
    "ax.set_ylim(1000, 0)  # inverted y-axis\n",
    "\n",
    "plt.plot(p[0,:], p[1,:], 'o');"
   ]
  },
  {
   "cell_type": "markdown",
   "metadata": {},
   "source": [
    "Now, we want the image-plane points to be somewhere else, let's choose the goal image plane coordinates"
   ]
  },
  {
   "cell_type": "code",
   "execution_count": null,
   "metadata": {},
   "outputs": [],
   "source": [
    "pstar = np.array( [\n",
    "    [100,   100],\n",
    "    [900,   180],\n",
    "    [500,   870] ]).T"
   ]
  },
  {
   "cell_type": "markdown",
   "metadata": {},
   "source": [
    "The error, between where the vertices are, and where we want them is simply"
   ]
  },
  {
   "cell_type": "code",
   "execution_count": null,
   "metadata": {},
   "outputs": [],
   "source": [
    "e = pstar - p\n",
    "print(e)"
   ]
  },
  {
   "cell_type": "markdown",
   "metadata": {},
   "source": [
    "we can plot the actual image-plane positions, the desired image-plane positions and the error vectors on the one plot"
   ]
  },
  {
   "cell_type": "code",
   "execution_count": null,
   "metadata": {},
   "outputs": [],
   "source": [
    "plt.clf()\n",
    "plt.figure()\n",
    "ax = plt.gca()\n",
    "plt.grid(True)\n",
    "ax.set_aspect('equal')\n",
    "ax.set_facecolor('yellow')\n",
    "plt.xlabel('u (pixels)')\n",
    "plt.ylabel('v (pixels)')\n",
    "plt.title('Camera image plane')\n",
    "plt.xlim(0, 1000)\n",
    "ax.set_ylim(1000, 0)  # inverted y-axis\n",
    "\n",
    "plt.plot(p[0,:], p[1,:], 'o')\n",
    "plt.plot(pstar[0,:], pstar[1,:], 'k*', markersize=16)\n",
    "\n",
    "for a,b in zip(p.T, e.T):\n",
    "    plt.arrow(a[0], a[1], b[0], b[1], head_width=20, length_includes_head=True)"
   ]
  },
  {
   "cell_type": "markdown",
   "metadata": {},
   "source": [
    "The image-plane velocity will be some small multiple of these error vectors"
   ]
  },
  {
   "cell_type": "code",
   "execution_count": null,
   "metadata": {},
   "outputs": [],
   "source": [
    "pdot_star = 0.01 * e.reshape((-1,1), order='F')  # turn e into a column vector with row-major ordering\n",
    "pdot_star"
   ]
  },
  {
   "cell_type": "markdown",
   "metadata": {},
   "source": [
    "Now we can create a Jacobian matrix for the 3 points, this is a vertical stack of the $2 \\times 6$ Jacobian matrices, resulting in a $6 \\times 6$ matrix. `visjac` does this automatically, given N points, it will return a $2N \\times 6$ Jacobian matrix.  We do need to provide an estimate of the distance to the points, here that is set to 3m for all the points.  See `Camera.visjac?` for more details."
   ]
  },
  {
   "cell_type": "code",
   "execution_count": null,
   "metadata": {},
   "outputs": [],
   "source": [
    "Jp = camera.visjac_p(p, 3)\n",
    "print(Jp.round(2))"
   ]
  },
  {
   "cell_type": "markdown",
   "metadata": {},
   "source": [
    "Now we invert the relationship from camera velocity to image plane, to solve for the camera velocity required given the desired image plane velocity."
   ]
  },
  {
   "cell_type": "code",
   "execution_count": null,
   "metadata": {},
   "outputs": [],
   "source": [
    "vcam = np.linalg.inv(Jp) @ pdot_star\n",
    "vcam"
   ]
  },
  {
   "cell_type": "markdown",
   "metadata": {},
   "source": [
    "which is the velocity the camera must have in 3D space in order to move the image to be more like that shown with the stars.  The motion is predominantly in the camera x-direction as well as some rotation about the camera's y-axis."
   ]
  },
  {
   "cell_type": "code",
   "execution_count": null,
   "metadata": {
    "code_folding": []
   },
   "outputs": [],
   "source": [
    "vmax = 0.015  # maximum norm of camera velocity\n",
    "\n",
    "def vservo(camera, P, pstar, current_T, lam=0.08, Z=10):\n",
    "    p = camera.project(P, pose=current_T)\n",
    "    e = pstar - p\n",
    "    pdot_star = lam * e.reshape((-1,1), order='F')\n",
    "    Jp = camera.visjac_p(p, Z)\n",
    "    \n",
    "    # limit speed of motion\n",
    "    vcam = np.linalg.inv(Jp) @ pdot_star\n",
    "    vn = np.linalg.norm(vcam)\n",
    "    if vn > vmax:\n",
    "        vcam = vcam / vn * vmax\n",
    "    \n",
    "    # update camera pose, we use matrix exponential to convert velocity screw to SE(3) increment\n",
    "    next_T = base.trnorm(current_T.A @ base.trexp( vcam ))\n",
    "    \n",
    "    return next_T, np.linalg.norm(e)"
   ]
  },
  {
   "cell_type": "code",
   "execution_count": null,
   "metadata": {
    "code_folding": []
   },
   "outputs": [],
   "source": [
    "# Following is to reset all parameters and make the cell isolated and repeatable\n",
    "# Note that initial camera pose is currently at origin looking along z axis.\n",
    "camera = CentralCamera()\n",
    "P = np.array([  [-1, 0,            5],\n",
    "                [ 1, 0,            5],\n",
    "                [ 0, math.sqrt(3), 5]]).T\n",
    "pstar = np.array( [\n",
    "                  [100,   100],\n",
    "                  [900,   180],\n",
    "                  [500,   870] ]).T\n",
    "\n",
    "# Set parameters for pose updating\n",
    "dt = 0.05   # time step\n",
    "Z = 5       # use fixed value of Z\n",
    "lam = 0.2   # scalar gain\n",
    "\n",
    "def setup():\n",
    "    # Set up the 3D space to move the object and 2D plane for camera view\n",
    "    fig = plt.figure()\n",
    "    ax3d = fig.add_subplot(121, projection='3d')\n",
    "    ax2d = fig.add_subplot(122)\n",
    "    ax3d.set_xlabel('X Label')\n",
    "    ax3d.set_ylabel('Y Label')\n",
    "    ax3d.set_zlabel('Z Label')\n",
    "    ax3d.set_title('World View')\n",
    "    ax3d.set_xlim(-2,2)\n",
    "    ax3d.set_ylim(0,4)\n",
    "    ax2d.set_xlabel('u (pixels)')\n",
    "    ax2d.set_ylabel('v (pixels)')\n",
    "    ax2d.set_title('Camera image plane')\n",
    "    ax2d.set_aspect('equal')\n",
    "    ax2d.set_facecolor('yellow')\n",
    "    ax2d.set_xlim(0, 1000)\n",
    "    ax2d.set_ylim(1000, 0)  # inverted y-axis\n",
    "    ax2d.grid()\n",
    "\n",
    "    # Create the base frustum visualization\n",
    "    # Top is green, right is red, other sides are blue\n",
    "    cam_viz = CamVisualizer(camera, f_length=0.5, fb_width=0.05, ft_width=0.5)\n",
    "    collection = Poly3DCollection(cam_viz.gen_frustrum_poly(), facecolors=['g', 'r', 'b', 'b'])\n",
    "    ax3d.add_collection3d(collection)\n",
    "\n",
    "    return fig, ax2d, ax3d, collection\n",
    "\n",
    "fig, ax2d, ax3d, collection = setup()\n",
    "\n",
    "# Draw points in 3d model\n",
    "scat3d = ax3d.scatter(P[0], P[1], P[2], c='b')\n",
    "\n",
    "# Draw desired points on image plane (stars)\n",
    "ax2d.scatter(pstar[0], pstar[1], marker='*', s=100, c='b')\n",
    "\n",
    "# Draw current point projections on image plane\n",
    "p = camera.project(P)\n",
    "scat2d = ax2d.scatter(p[0], p[1], c='b')\n",
    "\n",
    "# Define starting error as very high to start\n",
    "error = 1e6\n",
    "# Error threshold tunable to see different end points\n",
    "error_thresh = 5\n",
    "\n",
    "# Generator function used in FuncAnimation to dictate when we stop (error drops below threshold)\n",
    "def evaluate():\n",
    "    i = 0\n",
    "    while error > error_thresh:\n",
    "        i += 1\n",
    "        yield i\n",
    "        \n",
    "# Animation function used in FuncAnimation to update world and camera view images\n",
    "def animate_servo(frame_id):\n",
    "    # Make sure we are using the global error parameter otherwise we will never stop\n",
    "    global error\n",
    "    # Calculate new pose of the camera\n",
    "    camera.pose, error = vservo(camera, P, pstar, camera.pose, lam=0.01)\n",
    "    \n",
    "    # Update frustrum coordinates in world view\n",
    "    cam_visualizer = CamVisualizer(camera, f_length=0.5, fb_width=0.05, ft_width=0.5)\n",
    "    new_frustrum_points = cam_visualizer.gen_frustrum_poly()\n",
    "    \n",
    "    # update the Collection3dPoly to update the figure\n",
    "    collection.set_verts(new_frustrum_points)\n",
    "    \n",
    "    # Update Camera View\n",
    "    cam_view_points = camera.project(P).transpose()\n",
    "    scat2d.set_offsets(cam_view_points)\n",
    "\n",
    "ani = FuncAnimation(fig, animate_servo, frames=evaluate(), interval=dt*1000, \n",
    "                    blit=False, repeat=False)\n",
    "plt.show() "
   ]
  },
  {
   "cell_type": "markdown",
   "metadata": {},
   "source": [
    "You can experiment with this in various ways:\n",
    "* change the gain\n",
    "* change the initial position of the camera\n",
    "* servo to more than 3 points. In this case the Jacobian will be non-square so you will have to use the pseudo inverse"
   ]
  },
  {
   "cell_type": "code",
   "execution_count": null,
   "metadata": {},
   "outputs": [],
   "source": []
  }
 ],
 "metadata": {
  "kernelspec": {
   "display_name": "conda_pytorch_p36",
   "language": "python",
   "name": "conda_pytorch_p36"
  },
  "language_info": {
   "codemirror_mode": {
    "name": "ipython",
    "version": 3
   },
   "file_extension": ".py",
   "mimetype": "text/x-python",
   "name": "python",
   "nbconvert_exporter": "python",
   "pygments_lexer": "ipython3",
   "version": "3.6.10"
  },
  "toc": {
   "base_numbering": 1,
   "nav_menu": {},
   "number_sections": true,
   "sideBar": true,
   "skip_h1_title": false,
   "title_cell": "Table of Contents",
   "title_sidebar": "Contents",
   "toc_cell": false,
   "toc_position": {},
   "toc_section_display": true,
   "toc_window_display": false
  },
  "varInspector": {
   "cols": {
    "lenName": 16,
    "lenType": 16,
    "lenVar": 40
   },
   "kernels_config": {
    "python": {
     "delete_cmd_postfix": "",
     "delete_cmd_prefix": "del ",
     "library": "var_list.py",
     "varRefreshCmd": "print(var_dic_list())"
    },
    "r": {
     "delete_cmd_postfix": ") ",
     "delete_cmd_prefix": "rm(",
     "library": "var_list.r",
     "varRefreshCmd": "cat(var_dic_list()) "
    }
   },
   "position": {
    "height": "335px",
    "left": "752px",
    "right": "20px",
    "top": "120px",
    "width": "349px"
   },
   "types_to_exclude": [
    "module",
    "function",
    "builtin_function_or_method",
    "instance",
    "_Feature"
   ],
   "window_display": false
  }
 },
 "nbformat": 4,
 "nbformat_minor": 2
}
